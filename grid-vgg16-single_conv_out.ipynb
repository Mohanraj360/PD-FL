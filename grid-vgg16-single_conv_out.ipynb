{
 "cells": [
  {
   "cell_type": "markdown",
   "metadata": {},
   "source": [
    "[Persim 0.3.1 documentation](https://persim.scikit-tda.org/en/latest/notebooks/Persistence%20images.html#Generate-a-persistence-diagram-using-Ripser)"
   ]
  },
  {
   "cell_type": "code",
   "execution_count": 1,
   "metadata": {
    "vscode": {
     "languageId": "python"
    }
   },
   "outputs": [],
   "source": [
    "from itertools import product\n",
    "\n",
    "import time\n",
    "import numpy as np\n",
    "from sklearn import datasets\n",
    "from scipy.stats import multivariate_normal as mvn\n",
    "import matplotlib.pyplot as plt\n",
    "\n",
    "from ripser import Rips\n",
    "from persim import PersistenceImager\n",
    "\n",
    "import os\n",
    "\n",
    "import seaborn\n",
    "import pandas as pd"
   ]
  },
  {
   "cell_type": "code",
   "execution_count": 6,
   "metadata": {
    "vscode": {
     "languageId": "python"
    }
   },
   "outputs": [
    {
     "name": "stdout",
     "output_type": "stream",
     "text": [
      "vr_metric_single_convFeature_extract_layers=cifar_test05-17--14-37-12.pth0.dat\n",
      "vr_metric_single_convFeature_extract_layers=cifar_test05-17--14-37-12.pth1.dat\n",
      "vr_metric_single_convFeature_extract_layers=cifar_test05-17--14-37-12.pth2.dat\n",
      "vr_metric_single_convFeature_extract_layers=cifar_test05-17--14-37-12.pth3.dat\n",
      "vr_metric_single_convFeature_extract_layers=cifar_test05-17--14-54-02.pth0.dat\n",
      "vr_metric_single_convFeature_extract_layers=cifar_test05-17--14-54-02.pth1.dat\n",
      "vr_metric_single_convFeature_extract_layers=cifar_test05-17--14-54-02.pth2.dat\n",
      "vr_metric_single_convFeature_extract_layers=cifar_test05-17--14-54-02.pth3.dat\n",
      "vr_metric_single_convFeature_extract_layers=cifar_test05-17--15-14-35.pth0.dat\n",
      "vr_metric_single_convFeature_extract_layers=cifar_test05-17--15-14-35.pth1.dat\n",
      "vr_metric_single_convFeature_extract_layers=cifar_test05-17--15-14-35.pth2.dat\n",
      "vr_metric_single_convFeature_extract_layers=cifar_test05-17--15-14-35.pth3.dat\n",
      "vr_metric_single_convFeature_extract_layers=cifar_test05-17--16-26-58.pth0.dat\n",
      "vr_metric_single_convFeature_extract_layers=cifar_test05-17--16-26-58.pth1.dat\n",
      "vr_metric_single_convFeature_extract_layers=cifar_test05-17--16-26-58.pth2.dat\n",
      "vr_metric_single_convFeature_extract_layers=cifar_test05-17--16-26-58.pth3.dat\n",
      "vr_metric_single_convFeature_extract_layers=cifar_test05-21--16-54-11.pth0.dat\n",
      "vr_metric_single_convFeature_extract_layers=cifar_test05-21--16-54-11.pth1.dat\n",
      "vr_metric_single_convFeature_extract_layers=cifar_test05-21--16-54-11.pth2.dat\n",
      "vr_metric_single_convFeature_extract_layers=cifar_test05-21--16-54-11.pth3.dat\n",
      "vr_metric_single_convFeature_extract_layers=cifar_test05-21--17-14-44.pth0.dat\n",
      "vr_metric_single_convFeature_extract_layers=cifar_test05-21--17-14-44.pth1.dat\n",
      "vr_metric_single_convFeature_extract_layers=cifar_test05-21--17-14-44.pth2.dat\n",
      "vr_metric_single_convFeature_extract_layers=cifar_test05-21--17-14-44.pth3.dat\n",
      "vr_metric_single_convFeature_extract_layers=cifar_test05-21--17-32-48.pth0.dat\n",
      "vr_metric_single_convFeature_extract_layers=cifar_test05-21--17-32-48.pth1.dat\n",
      "vr_metric_single_convFeature_extract_layers=cifar_test05-21--17-32-48.pth2.dat\n",
      "vr_metric_single_convFeature_extract_layers=cifar_test05-21--17-32-48.pth3.dat\n",
      "vr_metric_single_convFeature_extract_layers=cifar_test05-21--17-54-18.pth0.dat\n",
      "vr_metric_single_convFeature_extract_layers=cifar_test05-21--17-54-18.pth1.dat\n",
      "vr_metric_single_convFeature_extract_layers=cifar_test05-21--17-54-18.pth2.dat\n",
      "vr_metric_single_convFeature_extract_layers=cifar_test05-21--17-54-18.pth3.dat\n",
      "vr_metric_single_convFeature_extract_layers=cifar_test05-21--19-39-49.pth0.dat\n",
      "vr_metric_single_convFeature_extract_layers=cifar_test05-21--19-39-49.pth1.dat\n",
      "vr_metric_single_convFeature_extract_layers=cifar_test05-21--19-39-49.pth2.dat\n",
      "vr_metric_single_convFeature_extract_layers=cifar_test05-21--19-39-49.pth3.dat\n",
      "vr_metric_single_convFeature_extract_layers=cifar_test05-21--20-32-02.pth0.dat\n",
      "vr_metric_single_convFeature_extract_layers=cifar_test05-21--20-32-02.pth1.dat\n",
      "vr_metric_single_convFeature_extract_layers=cifar_test05-21--20-32-02.pth2.dat\n",
      "vr_metric_single_convFeature_extract_layers=cifar_test05-21--20-32-02.pth3.dat\n",
      "vr_metric_single_convFeature_extract_layers=cifar_test06-05--18-46-57.pth0.dat\n",
      "vr_metric_single_convFeature_extract_layers=cifar_test06-05--18-46-57.pth1.dat\n",
      "vr_metric_single_convFeature_extract_layers=cifar_test06-05--18-46-57.pth2.dat\n",
      "vr_metric_single_convFeature_extract_layers=cifar_test06-05--18-46-57.pth3.dat\n",
      "vr_metric_single_convFeature_extract_layers=cifar_test06-05--19-22-49.pth0.dat\n",
      "vr_metric_single_convFeature_extract_layers=cifar_test06-05--19-22-49.pth1.dat\n",
      "vr_metric_single_convFeature_extract_layers=cifar_test06-05--19-22-49.pth2.dat\n",
      "vr_metric_single_convFeature_extract_layers=cifar_test06-05--19-22-49.pth3.dat\n",
      "vr_metric_single_convFeature_extract_layers=cifar_test06-05--19-58-22.pth0.dat\n",
      "vr_metric_single_convFeature_extract_layers=cifar_test06-05--19-58-22.pth1.dat\n",
      "vr_metric_single_convFeature_extract_layers=cifar_test06-05--19-58-22.pth2.dat\n",
      "vr_metric_single_convFeature_extract_layers=cifar_test06-05--19-58-22.pth3.dat\n",
      "vr_metric_single_convFeature_extract_layers=cifar_test06-05--20-48-07.pth0.dat\n",
      "vr_metric_single_convFeature_extract_layers=cifar_test06-05--20-48-07.pth1.dat\n",
      "vr_metric_single_convFeature_extract_layers=cifar_test06-05--20-48-07.pth2.dat\n",
      "vr_metric_single_convFeature_extract_layers=cifar_test06-05--20-48-07.pth3.dat\n",
      "vr_metric_single_convFeature_extract_layers=cifar_test06-05--21-21-48.pth0.dat\n",
      "vr_metric_single_convFeature_extract_layers=cifar_test06-05--21-21-48.pth1.dat\n",
      "vr_metric_single_convFeature_extract_layers=cifar_test06-05--21-21-48.pth2.dat\n",
      "vr_metric_single_convFeature_extract_layers=cifar_test06-05--21-21-48.pth3.dat\n",
      "vr_metric_single_convFeature_extract_layers=cifar_test06-05--21-51-18.pth0.dat\n",
      "vr_metric_single_convFeature_extract_layers=cifar_test06-05--21-51-18.pth1.dat\n",
      "vr_metric_single_convFeature_extract_layers=cifar_test06-05--21-51-18.pth2.dat\n",
      "vr_metric_single_convFeature_extract_layers=cifar_test06-05--21-51-18.pth3.dat\n",
      "vr_metric_single_convFeature_extract_layers=cifar_test06-07--18-36-08.pth0.dat\n",
      "vr_metric_single_convFeature_extract_layers=cifar_test06-07--18-36-08.pth1.dat\n",
      "vr_metric_single_convFeature_extract_layers=cifar_test06-07--18-36-08.pth2.dat\n",
      "vr_metric_single_convFeature_extract_layers=cifar_test06-07--18-36-08.pth3.dat\n",
      "vr_metric_single_convFeature_extract_layers=cifar_test06-07--19-12-04.pth0.dat\n",
      "vr_metric_single_convFeature_extract_layers=cifar_test06-07--19-12-04.pth1.dat\n",
      "vr_metric_single_convFeature_extract_layers=cifar_test06-07--19-12-04.pth2.dat\n",
      "vr_metric_single_convFeature_extract_layers=cifar_test06-07--19-12-04.pth3.dat\n",
      "vr_metric_single_convFeature_extract_layers=cifar_test06-21--17-02-50.pth0.dat\n",
      "vr_metric_single_convFeature_extract_layers=cifar_test06-21--17-02-50.pth1.dat\n",
      "vr_metric_single_convFeature_extract_layers=cifar_test06-21--17-02-50.pth2.dat\n",
      "vr_metric_single_convFeature_extract_layers=cifar_test06-21--17-02-50.pth3.dat\n",
      "vr_metric_single_convFeature_extract_layers=cifar_test06-21--19-17-17.pth0.dat\n",
      "vr_metric_single_convFeature_extract_layers=cifar_test06-21--19-17-17.pth1.dat\n",
      "vr_metric_single_convFeature_extract_layers=cifar_test06-21--19-17-17.pth2.dat\n",
      "vr_metric_single_convFeature_extract_layers=cifar_test06-21--19-17-17.pth3.dat\n",
      "vr_metric_single_convFeature_extract_layers=cifar_t_attack05-21--21-50-44.pth0.dat\n",
      "vr_metric_single_convFeature_extract_layers=cifar_t_attack05-21--21-50-44.pth1.dat\n",
      "vr_metric_single_convFeature_extract_layers=cifar_t_attack05-21--21-50-44.pth2.dat\n",
      "vr_metric_single_convFeature_extract_layers=cifar_t_attack05-21--21-50-44.pth3.dat\n",
      "vr_metric_single_convFeature_extract_layers=cifar_t_attack05-22--17-27-17.pth0.dat\n",
      "vr_metric_single_convFeature_extract_layers=cifar_t_attack05-22--17-27-17.pth1.dat\n",
      "vr_metric_single_convFeature_extract_layers=cifar_t_attack05-22--17-27-17.pth2.dat\n",
      "vr_metric_single_convFeature_extract_layers=cifar_t_attack05-22--17-27-17.pth3.dat\n",
      "vr_metric_single_convFeature_extract_layers=cifar_t_attack05-23--19-52-34.pth0.dat\n",
      "vr_metric_single_convFeature_extract_layers=cifar_t_attack05-23--19-52-34.pth1.dat\n",
      "vr_metric_single_convFeature_extract_layers=cifar_t_attack05-23--19-52-34.pth2.dat\n",
      "vr_metric_single_convFeature_extract_layers=cifar_t_attack05-23--19-52-34.pth3.dat\n",
      "vr_metric_single_convFeature_extract_layers=cifar_t_attack05-23--20-12-15.pth0.dat\n",
      "vr_metric_single_convFeature_extract_layers=cifar_t_attack05-23--20-12-15.pth1.dat\n",
      "vr_metric_single_convFeature_extract_layers=cifar_t_attack05-23--20-12-15.pth2.dat\n",
      "vr_metric_single_convFeature_extract_layers=cifar_t_attack05-23--20-12-15.pth3.dat\n",
      "vr_metric_single_convFeature_extract_layers=cifar_t_attack05-26--21-49-39.pth0.dat\n",
      "vr_metric_single_convFeature_extract_layers=cifar_t_attack05-26--21-49-39.pth1.dat\n",
      "vr_metric_single_convFeature_extract_layers=cifar_t_attack05-26--21-49-39.pth2.dat\n",
      "vr_metric_single_convFeature_extract_layers=cifar_t_attack05-26--21-49-39.pth3.dat\n",
      "vr_metric_single_convFeature_extract_layers=cifar_t_attack05-26--22-24-59.pth0.dat\n",
      "vr_metric_single_convFeature_extract_layers=cifar_t_attack05-26--22-24-59.pth1.dat\n",
      "vr_metric_single_convFeature_extract_layers=cifar_t_attack05-26--22-24-59.pth2.dat\n",
      "vr_metric_single_convFeature_extract_layers=cifar_t_attack05-26--22-24-59.pth3.dat\n",
      "vr_metric_single_convFeature_extract_layers=cifar_t_attack05-26--23-29-05.pth0.dat\n",
      "vr_metric_single_convFeature_extract_layers=cifar_t_attack05-26--23-29-05.pth1.dat\n",
      "vr_metric_single_convFeature_extract_layers=cifar_t_attack05-26--23-29-05.pth2.dat\n",
      "vr_metric_single_convFeature_extract_layers=cifar_t_attack05-26--23-29-05.pth3.dat\n",
      "vr_metric_single_convFeature_extract_layers=cifar_t_attack05-27--00-00-20.pth0.dat\n",
      "vr_metric_single_convFeature_extract_layers=cifar_t_attack05-27--00-00-20.pth1.dat\n",
      "vr_metric_single_convFeature_extract_layers=cifar_t_attack05-27--00-00-20.pth2.dat\n",
      "vr_metric_single_convFeature_extract_layers=cifar_t_attack05-27--00-00-20.pth3.dat\n",
      "vr_metric_single_convFeature_extract_layers=cifar_t_attack06-05--18-56-04.pth0.dat\n",
      "vr_metric_single_convFeature_extract_layers=cifar_t_attack06-05--18-56-04.pth1.dat\n",
      "vr_metric_single_convFeature_extract_layers=cifar_t_attack06-05--18-56-04.pth2.dat\n",
      "vr_metric_single_convFeature_extract_layers=cifar_t_attack06-05--18-56-04.pth3.dat\n",
      "vr_metric_single_convFeature_extract_layers=cifar_t_attack06-05--19-27-03.pth0.dat\n",
      "vr_metric_single_convFeature_extract_layers=cifar_t_attack06-05--19-27-03.pth1.dat\n",
      "vr_metric_single_convFeature_extract_layers=cifar_t_attack06-05--19-27-03.pth2.dat\n",
      "vr_metric_single_convFeature_extract_layers=cifar_t_attack06-05--19-27-03.pth3.dat\n",
      "vr_metric_single_convFeature_extract_layers=cifar_t_attack06-05--20-10-53.pth0.dat\n",
      "vr_metric_single_convFeature_extract_layers=cifar_t_attack06-05--20-10-53.pth1.dat\n",
      "vr_metric_single_convFeature_extract_layers=cifar_t_attack06-05--20-10-53.pth2.dat\n",
      "vr_metric_single_convFeature_extract_layers=cifar_t_attack06-05--20-10-53.pth3.dat\n",
      "vr_metric_single_convFeature_extract_layers=cifar_t_attack06-05--20-50-31.pth0.dat\n",
      "vr_metric_single_convFeature_extract_layers=cifar_t_attack06-05--20-50-31.pth1.dat\n",
      "vr_metric_single_convFeature_extract_layers=cifar_t_attack06-05--20-50-31.pth2.dat\n",
      "vr_metric_single_convFeature_extract_layers=cifar_t_attack06-05--20-50-31.pth3.dat\n",
      "128\n"
     ]
    }
   ],
   "source": [
    "# data = np.loadtxt(r\"C:\\Users\\yui\\OneDrive\\Code\\Py\\TDA\\myfed_attack_save\\vr_metric04-22--17-43-28.dat\")\n",
    "dir = os.listdir(\"./metric\")\n",
    "data = []\n",
    "for metric in dir:\n",
    "    if metric[len(\"vr_metric_single_convFeature_extract_layers=\"):len(\"vr_metric_single_convFeature_extract_layers=\")+len(\"cifar_t\")] == \"cifar_t\":\n",
    "        data.append([np.loadtxt(\"./metric/\"+metric), metric])\n",
    "        print(metric)\n",
    "print(len(data))"
   ]
  },
  {
   "cell_type": "code",
   "execution_count": 3,
   "metadata": {
    "vscode": {
     "languageId": "python"
    }
   },
   "outputs": [],
   "source": [
    "# # data = np.loadtxt(r\"C:\\Users\\yui\\OneDrive\\Code\\Py\\TDA\\myfed_attack_save\\vr_metric04-22--17-43-28.dat\")\n",
    "# dir = os.listdir(\"./metric\")\n",
    "# at = 9\n",
    "# no = 0\n",
    "# for mt in dir:\n",
    "#     if mt[16:16+len(\"attack\"+str(at)+\"normal\"+str(no))] == \"attack\"+str(at)+\"normal\"+str(no) :\n",
    "#         data = np.loadtxt(\"./metric/\"+mt)\n",
    "#         name = mt\n",
    "#         print(name)"
   ]
  },
  {
   "cell_type": "code",
   "execution_count": 7,
   "metadata": {
    "vscode": {
     "languageId": "python"
    }
   },
   "outputs": [],
   "source": [
    "for i in range(len(data)):\n",
    "    data[i][0] = abs(data[i][0]) * 100\n",
    "    test = [j for j in data[i][0][0:-1] if j.any() != 0]\n",
    "    test = np.array(test)\n",
    "    # print(test.shape)\n",
    "    test = [j for j in test.T[:,0:-1] if j.any() != 0]\n",
    "    # grid = pd.DataFrame(test)\n",
    "    # plot = seaborn.heatmap(grid)\n",
    "    # plt.title(\"data\")\n",
    "    # plt.show()\n",
    "    test = np.array(test)\n",
    "    if test.shape[0] > test.shape[1]:\n",
    "        test = test[0:test.shape[1],:]\n",
    "    elif test.shape[0] < test.shape[1]:\n",
    "        test = test[:,0:test.shape[0]]\n",
    "    data[i][0] = np.array(test)\n",
    "# data = data[-3:-1]\n",
    "# for i in range(len(data)):\n",
    "#     data[i][0] = abs(data[i][0]) * 100\n",
    "#     test = [j for j in data[i][0][0:-1] if j.any() != 0]\n",
    "#     test = np.array(test)\n",
    "#     print(test.shape)\n",
    "#     print(test)"
   ]
  },
  {
   "cell_type": "code",
   "execution_count": 8,
   "metadata": {
    "vscode": {
     "languageId": "python"
    }
   },
   "outputs": [],
   "source": [
    "# points = []\n",
    "\n",
    "# for i in range(data.shape[0]):\n",
    "#     for j in range(data.shape[1]):\n",
    "#         points.append([i, j, abs(data[i][j])])\n",
    "\n",
    "# x=[point[0] for point in points]\n",
    "# y=[point[1] for point in points]\n",
    "# z=[point[2] for point in points]\n",
    "\n",
    "# fig=plt.figure(dpi=120)\n",
    "# ax=fig.add_subplot(111,projection='3d')\n",
    "# plt.title('point cloud')\n",
    "# ax.scatter(x,y,z,c='b',marker='.',s=2,linewidth=0,alpha=1,cmap='spectral')\n",
    "\n",
    "# #ax.set_facecolor((0,0,0))\n",
    "# ax.axis('auto')\n",
    "# # ax.xaxis.set_visible(False)\n",
    "# # ax.yaxis.set_visible(False)\n",
    "# ax.set_xlabel('X Label')\n",
    "# ax.set_ylabel('Y Label')\n",
    "# ax.set_zlabel('Z Label')\n",
    "# plt.show()"
   ]
  },
  {
   "cell_type": "code",
   "execution_count": 9,
   "metadata": {
    "vscode": {
     "languageId": "python"
    }
   },
   "outputs": [
    {
     "name": "stdout",
     "output_type": "stream",
     "text": [
      "Rips(maxdim=2, thresh=inf, coeff=2, do_cocycles=False, n_perm = None, verbose=True)\n"
     ]
    }
   ],
   "source": [
    "rips = Rips(maxdim=2)\n",
    "dgms = []\n",
    "H0_dgm = []\n",
    "H1_dgm = []\n",
    "for d in data:\n",
    "    dgms.append(rips.fit_transform(d[0], distance_matrix = True))\n",
    "    H1_dgm.append([dgms[-1][1],d[1]])\n",
    "    H0_dgm.append([dgms[-1][0],d[1]])\n"
   ]
  },
  {
   "cell_type": "code",
   "execution_count": 10,
   "metadata": {
    "vscode": {
     "languageId": "python"
    }
   },
   "outputs": [],
   "source": [
    "def gridsize(h_gdm):\n",
    "    s = [999,0,999,0]\n",
    "    for h in h_gdm:\n",
    "        s[0] = s[0] if h[0] > s[0] else h[0]\n",
    "        s[1] = s[1] if h[0] < s[1] else h[0]\n",
    "        s[2] = s[2] if h[1] > s[2] else h[1]\n",
    "        s[3] = s[3] if h[1] < s[3] else h[1]\n",
    "    return s\n",
    "def makegrid(h_gdm, s):\n",
    "    height = (s[1] - s[0]) / 126\n",
    "    weight = (s[3] - s[2]) / 126\n",
    "    grid = np.zeros((128,128))\n",
    "    for h in h_gdm:\n",
    "        x = y = 0\n",
    "        while x < 126:\n",
    "            if (h[0] < s[0] + x * height):\n",
    "                break\n",
    "            x += 1\n",
    "        while y < 126:\n",
    "            if (h[1] < s[2] + y * weight):\n",
    "                break\n",
    "            y += 1\n",
    "        grid[x][y] += 1\n",
    "    return grid"
   ]
  },
  {
   "cell_type": "code",
   "execution_count": 11,
   "metadata": {
    "vscode": {
     "languageId": "python"
    }
   },
   "outputs": [],
   "source": [
    "# for h1 in H1_dgm:\n",
    "#     print(len(h1[0]))\n",
    "#     print(gridsize(h1[0]))\n",
    "#     print(makegrid(h1[0],gridsize(h1[0])))\n",
    "#     # np.savetxt(\"./grids/h_\"+h1[1]+\".dat\", makegrid(h1[0],gridsize(h1[0])))"
   ]
  },
  {
   "cell_type": "code",
   "execution_count": 12,
   "metadata": {
    "vscode": {
     "languageId": "python"
    }
   },
   "outputs": [],
   "source": [
    "# dir = os.listdir(\"./grids\")\n",
    "# for Gr in dir:\n",
    "#     grid = np.loadtxt(\"./grids/\"+Gr)\n",
    "#     grid = pd.DataFrame(grid)\n",
    "\n",
    "#     plot = seaborn.heatmap(grid)\n",
    "#     plt.title(Gr)\n",
    "#     plt.show()"
   ]
  },
  {
   "cell_type": "code",
   "execution_count": 13,
   "metadata": {
    "vscode": {
     "languageId": "python"
    }
   },
   "outputs": [
    {
     "name": "stdout",
     "output_type": "stream",
     "text": [
      "./grids/h_vr_metric_single_convFeature_extract_layers=cifar_test05-17--14-37-12.pth0.dat\n",
      "./grids/h_vr_metric_single_convFeature_extract_layers=cifar_test05-17--14-37-12.pth1.dat\n",
      "./grids/h_vr_metric_single_convFeature_extract_layers=cifar_test05-17--14-37-12.pth2.dat\n",
      "./grids/h_vr_metric_single_convFeature_extract_layers=cifar_test05-17--14-37-12.pth3.dat\n",
      "./grids/h_vr_metric_single_convFeature_extract_layers=cifar_test05-17--14-54-02.pth0.dat\n",
      "./grids/h_vr_metric_single_convFeature_extract_layers=cifar_test05-17--14-54-02.pth1.dat\n",
      "./grids/h_vr_metric_single_convFeature_extract_layers=cifar_test05-17--14-54-02.pth2.dat\n",
      "./grids/h_vr_metric_single_convFeature_extract_layers=cifar_test05-17--14-54-02.pth3.dat\n",
      "./grids/h_vr_metric_single_convFeature_extract_layers=cifar_test05-17--15-14-35.pth0.dat\n",
      "./grids/h_vr_metric_single_convFeature_extract_layers=cifar_test05-17--15-14-35.pth1.dat\n",
      "./grids/h_vr_metric_single_convFeature_extract_layers=cifar_test05-17--15-14-35.pth2.dat\n",
      "./grids/h_vr_metric_single_convFeature_extract_layers=cifar_test05-17--15-14-35.pth3.dat\n",
      "./grids/h_vr_metric_single_convFeature_extract_layers=cifar_test05-17--16-26-58.pth0.dat\n",
      "./grids/h_vr_metric_single_convFeature_extract_layers=cifar_test05-17--16-26-58.pth1.dat\n",
      "./grids/h_vr_metric_single_convFeature_extract_layers=cifar_test05-17--16-26-58.pth2.dat\n",
      "./grids/h_vr_metric_single_convFeature_extract_layers=cifar_test05-17--16-26-58.pth3.dat\n",
      "./grids/h_vr_metric_single_convFeature_extract_layers=cifar_test05-21--16-54-11.pth0.dat\n",
      "./grids/h_vr_metric_single_convFeature_extract_layers=cifar_test05-21--16-54-11.pth1.dat\n",
      "./grids/h_vr_metric_single_convFeature_extract_layers=cifar_test05-21--16-54-11.pth2.dat\n",
      "./grids/h_vr_metric_single_convFeature_extract_layers=cifar_test05-21--16-54-11.pth3.dat\n",
      "./grids/h_vr_metric_single_convFeature_extract_layers=cifar_test05-21--17-14-44.pth0.dat\n",
      "./grids/h_vr_metric_single_convFeature_extract_layers=cifar_test05-21--17-14-44.pth1.dat\n",
      "./grids/h_vr_metric_single_convFeature_extract_layers=cifar_test05-21--17-14-44.pth2.dat\n",
      "./grids/h_vr_metric_single_convFeature_extract_layers=cifar_test05-21--17-14-44.pth3.dat\n",
      "./grids/h_vr_metric_single_convFeature_extract_layers=cifar_test05-21--17-32-48.pth0.dat\n",
      "./grids/h_vr_metric_single_convFeature_extract_layers=cifar_test05-21--17-32-48.pth1.dat\n",
      "./grids/h_vr_metric_single_convFeature_extract_layers=cifar_test05-21--17-32-48.pth2.dat\n",
      "./grids/h_vr_metric_single_convFeature_extract_layers=cifar_test05-21--17-32-48.pth3.dat\n",
      "./grids/h_vr_metric_single_convFeature_extract_layers=cifar_test05-21--17-54-18.pth0.dat\n",
      "./grids/h_vr_metric_single_convFeature_extract_layers=cifar_test05-21--17-54-18.pth1.dat\n",
      "./grids/h_vr_metric_single_convFeature_extract_layers=cifar_test05-21--17-54-18.pth2.dat\n",
      "./grids/h_vr_metric_single_convFeature_extract_layers=cifar_test05-21--17-54-18.pth3.dat\n",
      "./grids/h_vr_metric_single_convFeature_extract_layers=cifar_test05-21--19-39-49.pth0.dat\n",
      "./grids/h_vr_metric_single_convFeature_extract_layers=cifar_test05-21--19-39-49.pth1.dat\n",
      "./grids/h_vr_metric_single_convFeature_extract_layers=cifar_test05-21--19-39-49.pth2.dat\n",
      "./grids/h_vr_metric_single_convFeature_extract_layers=cifar_test05-21--19-39-49.pth3.dat\n",
      "./grids/h_vr_metric_single_convFeature_extract_layers=cifar_test05-21--20-32-02.pth0.dat\n",
      "./grids/h_vr_metric_single_convFeature_extract_layers=cifar_test05-21--20-32-02.pth1.dat\n",
      "./grids/h_vr_metric_single_convFeature_extract_layers=cifar_test05-21--20-32-02.pth2.dat\n",
      "./grids/h_vr_metric_single_convFeature_extract_layers=cifar_test05-21--20-32-02.pth3.dat\n",
      "./grids/h_vr_metric_single_convFeature_extract_layers=cifar_test06-05--18-46-57.pth0.dat\n",
      "./grids/h_vr_metric_single_convFeature_extract_layers=cifar_test06-05--18-46-57.pth1.dat\n",
      "./grids/h_vr_metric_single_convFeature_extract_layers=cifar_test06-05--18-46-57.pth2.dat\n",
      "./grids/h_vr_metric_single_convFeature_extract_layers=cifar_test06-05--18-46-57.pth3.dat\n",
      "./grids/h_vr_metric_single_convFeature_extract_layers=cifar_test06-05--19-22-49.pth0.dat\n",
      "./grids/h_vr_metric_single_convFeature_extract_layers=cifar_test06-05--19-22-49.pth1.dat\n",
      "./grids/h_vr_metric_single_convFeature_extract_layers=cifar_test06-05--19-22-49.pth2.dat\n",
      "./grids/h_vr_metric_single_convFeature_extract_layers=cifar_test06-05--19-22-49.pth3.dat\n",
      "./grids/h_vr_metric_single_convFeature_extract_layers=cifar_test06-05--19-58-22.pth0.dat\n",
      "./grids/h_vr_metric_single_convFeature_extract_layers=cifar_test06-05--19-58-22.pth1.dat\n",
      "./grids/h_vr_metric_single_convFeature_extract_layers=cifar_test06-05--19-58-22.pth2.dat\n",
      "./grids/h_vr_metric_single_convFeature_extract_layers=cifar_test06-05--19-58-22.pth3.dat\n",
      "./grids/h_vr_metric_single_convFeature_extract_layers=cifar_test06-05--20-48-07.pth0.dat\n",
      "./grids/h_vr_metric_single_convFeature_extract_layers=cifar_test06-05--20-48-07.pth1.dat\n",
      "./grids/h_vr_metric_single_convFeature_extract_layers=cifar_test06-05--20-48-07.pth2.dat\n",
      "./grids/h_vr_metric_single_convFeature_extract_layers=cifar_test06-05--20-48-07.pth3.dat\n",
      "./grids/h_vr_metric_single_convFeature_extract_layers=cifar_test06-05--21-21-48.pth0.dat\n",
      "./grids/h_vr_metric_single_convFeature_extract_layers=cifar_test06-05--21-21-48.pth1.dat\n",
      "./grids/h_vr_metric_single_convFeature_extract_layers=cifar_test06-05--21-21-48.pth2.dat\n",
      "./grids/h_vr_metric_single_convFeature_extract_layers=cifar_test06-05--21-21-48.pth3.dat\n",
      "./grids/h_vr_metric_single_convFeature_extract_layers=cifar_test06-05--21-51-18.pth0.dat\n",
      "./grids/h_vr_metric_single_convFeature_extract_layers=cifar_test06-05--21-51-18.pth1.dat\n",
      "./grids/h_vr_metric_single_convFeature_extract_layers=cifar_test06-05--21-51-18.pth2.dat\n",
      "./grids/h_vr_metric_single_convFeature_extract_layers=cifar_test06-05--21-51-18.pth3.dat\n",
      "./grids/h_vr_metric_single_convFeature_extract_layers=cifar_test06-07--18-36-08.pth0.dat\n",
      "./grids/h_vr_metric_single_convFeature_extract_layers=cifar_test06-07--18-36-08.pth1.dat\n",
      "./grids/h_vr_metric_single_convFeature_extract_layers=cifar_test06-07--18-36-08.pth2.dat\n",
      "./grids/h_vr_metric_single_convFeature_extract_layers=cifar_test06-07--18-36-08.pth3.dat\n",
      "./grids/h_vr_metric_single_convFeature_extract_layers=cifar_test06-07--19-12-04.pth0.dat\n",
      "./grids/h_vr_metric_single_convFeature_extract_layers=cifar_test06-07--19-12-04.pth1.dat\n",
      "./grids/h_vr_metric_single_convFeature_extract_layers=cifar_test06-07--19-12-04.pth2.dat\n",
      "./grids/h_vr_metric_single_convFeature_extract_layers=cifar_test06-07--19-12-04.pth3.dat\n",
      "./grids/h_vr_metric_single_convFeature_extract_layers=cifar_test06-21--17-02-50.pth0.dat\n",
      "./grids/h_vr_metric_single_convFeature_extract_layers=cifar_test06-21--17-02-50.pth1.dat\n",
      "./grids/h_vr_metric_single_convFeature_extract_layers=cifar_test06-21--17-02-50.pth2.dat\n",
      "./grids/h_vr_metric_single_convFeature_extract_layers=cifar_test06-21--17-02-50.pth3.dat\n",
      "./grids/h_vr_metric_single_convFeature_extract_layers=cifar_test06-21--19-17-17.pth0.dat\n",
      "./grids/h_vr_metric_single_convFeature_extract_layers=cifar_test06-21--19-17-17.pth1.dat\n",
      "./grids/h_vr_metric_single_convFeature_extract_layers=cifar_test06-21--19-17-17.pth2.dat\n",
      "./grids/h_vr_metric_single_convFeature_extract_layers=cifar_test06-21--19-17-17.pth3.dat\n",
      "./grids/h_vr_metric_single_convFeature_extract_layers=cifar_t_attack05-21--21-50-44.pth0.dat\n",
      "./grids/h_vr_metric_single_convFeature_extract_layers=cifar_t_attack05-21--21-50-44.pth1.dat\n",
      "./grids/h_vr_metric_single_convFeature_extract_layers=cifar_t_attack05-21--21-50-44.pth2.dat\n",
      "./grids/h_vr_metric_single_convFeature_extract_layers=cifar_t_attack05-21--21-50-44.pth3.dat\n",
      "./grids/h_vr_metric_single_convFeature_extract_layers=cifar_t_attack05-22--17-27-17.pth0.dat\n",
      "./grids/h_vr_metric_single_convFeature_extract_layers=cifar_t_attack05-22--17-27-17.pth1.dat\n",
      "./grids/h_vr_metric_single_convFeature_extract_layers=cifar_t_attack05-22--17-27-17.pth2.dat\n",
      "./grids/h_vr_metric_single_convFeature_extract_layers=cifar_t_attack05-22--17-27-17.pth3.dat\n",
      "./grids/h_vr_metric_single_convFeature_extract_layers=cifar_t_attack05-23--19-52-34.pth0.dat\n",
      "./grids/h_vr_metric_single_convFeature_extract_layers=cifar_t_attack05-23--19-52-34.pth1.dat\n",
      "./grids/h_vr_metric_single_convFeature_extract_layers=cifar_t_attack05-23--19-52-34.pth2.dat\n",
      "./grids/h_vr_metric_single_convFeature_extract_layers=cifar_t_attack05-23--19-52-34.pth3.dat\n",
      "./grids/h_vr_metric_single_convFeature_extract_layers=cifar_t_attack05-23--20-12-15.pth0.dat\n",
      "./grids/h_vr_metric_single_convFeature_extract_layers=cifar_t_attack05-23--20-12-15.pth1.dat\n",
      "./grids/h_vr_metric_single_convFeature_extract_layers=cifar_t_attack05-23--20-12-15.pth2.dat\n",
      "./grids/h_vr_metric_single_convFeature_extract_layers=cifar_t_attack05-23--20-12-15.pth3.dat\n",
      "./grids/h_vr_metric_single_convFeature_extract_layers=cifar_t_attack05-26--21-49-39.pth0.dat\n",
      "./grids/h_vr_metric_single_convFeature_extract_layers=cifar_t_attack05-26--21-49-39.pth1.dat\n",
      "./grids/h_vr_metric_single_convFeature_extract_layers=cifar_t_attack05-26--21-49-39.pth2.dat\n",
      "./grids/h_vr_metric_single_convFeature_extract_layers=cifar_t_attack05-26--21-49-39.pth3.dat\n",
      "./grids/h_vr_metric_single_convFeature_extract_layers=cifar_t_attack05-26--22-24-59.pth0.dat\n",
      "./grids/h_vr_metric_single_convFeature_extract_layers=cifar_t_attack05-26--22-24-59.pth1.dat\n",
      "./grids/h_vr_metric_single_convFeature_extract_layers=cifar_t_attack05-26--22-24-59.pth2.dat\n",
      "./grids/h_vr_metric_single_convFeature_extract_layers=cifar_t_attack05-26--22-24-59.pth3.dat\n",
      "./grids/h_vr_metric_single_convFeature_extract_layers=cifar_t_attack05-26--23-29-05.pth0.dat\n",
      "./grids/h_vr_metric_single_convFeature_extract_layers=cifar_t_attack05-26--23-29-05.pth1.dat\n",
      "./grids/h_vr_metric_single_convFeature_extract_layers=cifar_t_attack05-26--23-29-05.pth2.dat\n",
      "./grids/h_vr_metric_single_convFeature_extract_layers=cifar_t_attack05-26--23-29-05.pth3.dat\n",
      "./grids/h_vr_metric_single_convFeature_extract_layers=cifar_t_attack05-27--00-00-20.pth0.dat\n",
      "./grids/h_vr_metric_single_convFeature_extract_layers=cifar_t_attack05-27--00-00-20.pth1.dat\n",
      "./grids/h_vr_metric_single_convFeature_extract_layers=cifar_t_attack05-27--00-00-20.pth2.dat\n",
      "./grids/h_vr_metric_single_convFeature_extract_layers=cifar_t_attack05-27--00-00-20.pth3.dat\n",
      "./grids/h_vr_metric_single_convFeature_extract_layers=cifar_t_attack06-05--18-56-04.pth0.dat\n",
      "./grids/h_vr_metric_single_convFeature_extract_layers=cifar_t_attack06-05--18-56-04.pth1.dat\n",
      "./grids/h_vr_metric_single_convFeature_extract_layers=cifar_t_attack06-05--18-56-04.pth2.dat\n",
      "./grids/h_vr_metric_single_convFeature_extract_layers=cifar_t_attack06-05--18-56-04.pth3.dat\n",
      "./grids/h_vr_metric_single_convFeature_extract_layers=cifar_t_attack06-05--19-27-03.pth0.dat\n",
      "./grids/h_vr_metric_single_convFeature_extract_layers=cifar_t_attack06-05--19-27-03.pth1.dat\n",
      "./grids/h_vr_metric_single_convFeature_extract_layers=cifar_t_attack06-05--19-27-03.pth2.dat\n",
      "./grids/h_vr_metric_single_convFeature_extract_layers=cifar_t_attack06-05--19-27-03.pth3.dat\n",
      "./grids/h_vr_metric_single_convFeature_extract_layers=cifar_t_attack06-05--20-10-53.pth0.dat\n",
      "./grids/h_vr_metric_single_convFeature_extract_layers=cifar_t_attack06-05--20-10-53.pth1.dat\n",
      "./grids/h_vr_metric_single_convFeature_extract_layers=cifar_t_attack06-05--20-10-53.pth2.dat\n",
      "./grids/h_vr_metric_single_convFeature_extract_layers=cifar_t_attack06-05--20-10-53.pth3.dat\n",
      "./grids/h_vr_metric_single_convFeature_extract_layers=cifar_t_attack06-05--20-50-31.pth0.dat\n",
      "./grids/h_vr_metric_single_convFeature_extract_layers=cifar_t_attack06-05--20-50-31.pth1.dat\n",
      "./grids/h_vr_metric_single_convFeature_extract_layers=cifar_t_attack06-05--20-50-31.pth2.dat\n",
      "./grids/h_vr_metric_single_convFeature_extract_layers=cifar_t_attack06-05--20-50-31.pth3.dat\n"
     ]
    }
   ],
   "source": [
    "for h1 in H1_dgm:\n",
    "    # print(len(h1[0]))\n",
    "    # print(gridsize(h1[0]))\n",
    "    # print(makegrid(h1[0],gridsize(h1[0])))\n",
    "    np.savetxt(\"./grids/h_\"+h1[1], makegrid(h1[0],gridsize(h1[0])))\n",
    "    print(\"./grids/h_\"+h1[1])\n",
    "    # grid = pd.DataFrame(makegrid(h1[0],gridsize(h1[0])))\n",
    "    # plot = seaborn.heatmap(grid)\n",
    "    # plt.title(h1[1])\n",
    "    # plt.show()"
   ]
  }
 ],
 "metadata": {
  "interpreter": {
   "hash": "61d7d72412218704c5ba1799d65c7a83b08e24a9ca7847de9a479f6f426633e7"
  },
  "kernelspec": {
   "display_name": "Python 3 (ipykernel)",
   "language": "python",
   "name": "python3"
  },
  "orig_nbformat": 4
 },
 "nbformat": 4,
 "nbformat_minor": 2
}
