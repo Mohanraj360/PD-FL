{
 "cells": [
  {
   "cell_type": "code",
   "execution_count": 6,
   "metadata": {},
   "outputs": [],
   "source": [
    "import re\n",
    "import cv2\n",
    "from PIL import Image\n",
    "import numpy as np\n",
    "\n",
    "import os\n",
    "np.set_printoptions(threshold=np.inf)"
   ]
  },
  {
   "cell_type": "code",
   "execution_count": 2,
   "metadata": {},
   "outputs": [
    {
     "data": {
      "text/plain": [
       "5864"
      ]
     },
     "execution_count": 2,
     "metadata": {},
     "output_type": "execute_result"
    }
   ],
   "source": [
    "dir = os.listdir(\"./grids_fed\")\n",
    "path = \"./grids_fed/\"\n",
    "len(dir)"
   ]
  },
  {
   "cell_type": "code",
   "execution_count": 3,
   "metadata": {},
   "outputs": [
    {
     "data": {
      "text/plain": [
       "1466"
      ]
     },
     "execution_count": 3,
     "metadata": {},
     "output_type": "execute_result"
    }
   ],
   "source": [
    "sample = []\n",
    "data = []\n",
    "distance = 1\n",
    "normal_attack = [0,0]\n",
    "for metric in dir:\n",
    "    sample.append([np.loadtxt(path+metric), metric])\n",
    "    label = int(\"attack\" in metric)\n",
    "\n",
    "    # if (label == 0):\n",
    "    #     distance_bottleneck, matching = persim.bottleneck(sample[len(sample)-1][0], T_normal[len(sample)-1], matching=True)\n",
    "    # else:\n",
    "    #     distance_bottleneck, matching = persim.bottleneck(sample[len(sample)-1][0], T_attack[len(sample)-1], matching=True)\n",
    "    # distance += distance_bottleneck\n",
    "    if len(sample) == 4:\n",
    "        res = cv2.merge([i[0] for i in sample])\n",
    "        res = np.transpose(res,(2,0,1))\n",
    "        # d = 1/(1+math.exp(math.log(distance)))\n",
    "        data.append([res, np.array((label,distance))])\n",
    "        sample = []\n",
    "\n",
    "len(data)"
   ]
  },
  {
   "cell_type": "code",
   "execution_count": null,
   "metadata": {},
   "outputs": [],
   "source": [
    "# if not os.path.exists(\"./train_data/\"):\n",
    "#     os.makedirs(\"./train_data/\", exist_ok=True)\n",
    "# np.savetxt(\"./train_data/data-fed-mnist_lenet.txt\", np.array(data))"
   ]
  },
  {
   "cell_type": "code",
   "execution_count": 7,
   "metadata": {},
   "outputs": [],
   "source": [
    "with open(\"./train_data/data-fed-mnist_lenet.txt\", \"w\") as f:\n",
    "    for i in data:\n",
    "        f.write(str(i[0]) + \"\\n\" + str(i[1]))"
   ]
  }
 ],
 "metadata": {
  "kernelspec": {
   "display_name": "Python 3 (ipykernel)",
   "language": "python",
   "name": "python3"
  },
  "language_info": {
   "codemirror_mode": {
    "name": "ipython",
    "version": 3
   },
   "file_extension": ".py",
   "mimetype": "text/x-python",
   "name": "python",
   "nbconvert_exporter": "python",
   "pygments_lexer": "ipython3",
   "version": "3.8.13"
  },
  "orig_nbformat": 4
 },
 "nbformat": 4,
 "nbformat_minor": 2
}
