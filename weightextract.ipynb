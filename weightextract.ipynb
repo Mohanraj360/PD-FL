{
 "cells": [
  {
   "cell_type": "code",
   "execution_count": 1,
   "metadata": {},
   "outputs": [],
   "source": [
    "# Lab 10 MNIST and softmax\n",
    "import torch\n",
    "import torchvision.datasets as dsets\n",
    "import torchvision.transforms as transforms\n",
    "import random\n",
    "\n",
    "import numpy as np\n",
    "import os\n",
    "import copy\n",
    "import datetime\n",
    "\n",
    "# torch.set_printoptions(profile=\"full\")\n",
    "# np.set_printoptions(threshold=np.inf)\n"
   ]
  },
  {
   "cell_type": "code",
   "execution_count": 2,
   "metadata": {},
   "outputs": [],
   "source": [
    "device = 'cuda' if torch.cuda.is_available() else 'cpu'\n",
    "\n",
    "# for reproducibility\n",
    "random.seed(111)\n",
    "torch.manual_seed(777)\n",
    "if device == 'cuda':\n",
    "    torch.cuda.manual_seed_all(777)"
   ]
  },
  {
   "cell_type": "code",
   "execution_count": 3,
   "metadata": {},
   "outputs": [],
   "source": [
    "# parameters\n",
    "learning_rate = 0.001\n",
    "training_epochs = 5\n",
    "batch_size = 100"
   ]
  },
  {
   "cell_type": "code",
   "execution_count": 4,
   "metadata": {},
   "outputs": [],
   "source": [
    "# MNIST dataset\n",
    "mnist_train = dsets.MNIST(root='MNIST_data/',\n",
    "                          train=True,\n",
    "                          transform=transforms.ToTensor(),\n",
    "                          download=True)\n",
    "\n",
    "mnist_test = dsets.MNIST(root='MNIST_data/',\n",
    "                         train=False,\n",
    "                         transform=transforms.ToTensor(),\n",
    "                         download=True)"
   ]
  },
  {
   "cell_type": "code",
   "execution_count": 5,
   "metadata": {},
   "outputs": [],
   "source": [
    "# dataset loader\n",
    "data_loader = torch.utils.data.DataLoader(dataset=mnist_train,\n",
    "                                          batch_size=batch_size,\n",
    "                                          shuffle=True,\n",
    "                                          drop_last=True)\n",
    "test_loader = torch.utils.data.DataLoader(dataset=mnist_test,\n",
    "                                          batch_size=batch_size,\n",
    "                                          shuffle=True,\n",
    "                                          drop_last=True)"
   ]
  },
  {
   "cell_type": "code",
   "execution_count": 6,
   "metadata": {},
   "outputs": [
    {
     "name": "stdout",
     "output_type": "stream",
     "text": [
      "MyNet(\n",
      "  (layer1): Sequential(\n",
      "    (0): Conv2d(1, 25, kernel_size=(3, 3), stride=(1, 1))\n",
      "    (1): BatchNorm2d(25, eps=1e-05, momentum=0.1, affine=True, track_running_stats=True)\n",
      "    (2): ReLU(inplace=True)\n",
      "  )\n",
      "  (layer2): Sequential(\n",
      "    (0): MaxPool2d(kernel_size=2, stride=2, padding=0, dilation=1, ceil_mode=False)\n",
      "  )\n",
      "  (layer3): Sequential(\n",
      "    (0): Conv2d(25, 50, kernel_size=(3, 3), stride=(1, 1))\n",
      "    (1): BatchNorm2d(50, eps=1e-05, momentum=0.1, affine=True, track_running_stats=True)\n",
      "    (2): ReLU(inplace=True)\n",
      "  )\n",
      "  (layer4): Sequential(\n",
      "    (0): MaxPool2d(kernel_size=2, stride=2, padding=0, dilation=1, ceil_mode=False)\n",
      "  )\n",
      "  (fc): Sequential(\n",
      "    (0): Linear(in_features=1250, out_features=1024, bias=True)\n",
      "    (1): ReLU(inplace=True)\n",
      "    (2): Linear(in_features=1024, out_features=128, bias=True)\n",
      "    (3): ReLU(inplace=True)\n",
      "    (4): Linear(in_features=128, out_features=10, bias=True)\n",
      "  )\n",
      ")\n"
     ]
    }
   ],
   "source": [
    "class MyNet(torch.nn.Module):\n",
    "    def __init__(self):\n",
    "        super(MyNet, self).__init__()\n",
    "        self.layer1 = torch.nn.Sequential(\n",
    "            torch.nn.Conv2d(1, 25, kernel_size=3),\n",
    "            torch.nn.BatchNorm2d(25),\n",
    "            torch.nn.ReLU(inplace=True)\n",
    "        )\n",
    " \n",
    "        self.layer2 = torch.nn.Sequential(\n",
    "            torch.nn.MaxPool2d(kernel_size=2, stride=2)\n",
    "        )\n",
    " \n",
    "        self.layer3 = torch.nn.Sequential(\n",
    "            torch.nn.Conv2d(25, 50, kernel_size=3),\n",
    "            torch.nn.BatchNorm2d(50),\n",
    "            torch.nn.ReLU(inplace=True)\n",
    "        )\n",
    " \n",
    "        self.layer4 = torch.nn.Sequential(\n",
    "            torch.nn.MaxPool2d(kernel_size=2, stride=2)\n",
    "        )\n",
    " \n",
    "        self.fc = torch.nn.Sequential(\n",
    "            torch.nn.Linear(50 * 5 * 5, 1024),\n",
    "            torch.nn.ReLU(inplace=True),\n",
    "            torch.nn.Linear(1024, 128),\n",
    "            torch.nn.ReLU(inplace=True),\n",
    "            torch.nn.Linear(128, 10)\n",
    "        )\n",
    " \n",
    "    def forward(self, x):\n",
    "        x = self.layer1(x)\n",
    "        x = self.layer2(x)\n",
    "        x = self.layer3(x)\n",
    "        x = self.layer4(x)\n",
    "        x = x.view(x.size(0), -1)\n",
    "        x = self.fc(x)\n",
    "        return x\n",
    "\n",
    "model = MyNet().to(device)\n",
    "print(model)"
   ]
  },
  {
   "cell_type": "code",
   "execution_count": 7,
   "metadata": {},
   "outputs": [],
   "source": [
    "# define cost/loss & optimizer\n",
    "criterion = torch.nn.CrossEntropyLoss().to(device)    # Softmax is internally computed.\n",
    "optimizer = torch.optim.Adam(model.parameters(), lr=learning_rate)"
   ]
  },
  {
   "cell_type": "code",
   "execution_count": 8,
   "metadata": {},
   "outputs": [],
   "source": [
    "# total_batch = len(data_loader)\n",
    "# model.train()\n",
    "# for epoch in range(training_epochs):\n",
    "#     avg_cost = 0\n",
    "\n",
    "#     for X, Y in data_loader:\n",
    "#         X = torch.autograd.Variable(X).to(device)\n",
    "#         Y = Y.to(device)\n",
    "\n",
    "#         optimizer.zero_grad()\n",
    "#         hypothesis = model(X)\n",
    "#         cost = criterion(hypothesis, Y)\n",
    "#         cost.backward()\n",
    "#         optimizer.step()\n",
    "\n",
    "#         avg_cost += cost / total_batch\n",
    "\n",
    "#     print('Epoch:', '%04d' % (epoch + 1), 'cost =', '{:.9f}'.format(avg_cost))\n",
    "\n",
    "# print('Learning finished')"
   ]
  },
  {
   "cell_type": "code",
   "execution_count": 17,
   "metadata": {},
   "outputs": [
    {
     "data": {
      "text/plain": [
       "<All keys matched successfully>"
      ]
     },
     "execution_count": 17,
     "metadata": {},
     "output_type": "execute_result"
    }
   ],
   "source": [
    "filename = \"merge_attack0normal5_05-05--16-57-13.pth\"\n",
    "model.load_state_dict(torch.load(\"./merge_save/\"+filename)[\"state_dict\"])"
   ]
  },
  {
   "cell_type": "code",
   "execution_count": 9,
   "metadata": {},
   "outputs": [
    {
     "name": "stdout",
     "output_type": "stream",
     "text": [
      "layer1.0.weight\n",
      "layer1.0.bias\n",
      "layer1.1.weight\n",
      "layer1.1.bias\n",
      "layer3.0.weight\n",
      "layer3.0.bias\n",
      "layer3.1.weight\n",
      "layer3.1.bias\n",
      "fc.0.weight\n",
      "fc.0.bias\n",
      "fc.2.weight\n",
      "fc.2.bias\n",
      "fc.4.weight\n",
      "fc.4.bias\n"
     ]
    }
   ],
   "source": [
    "parm = {}\n",
    "for name,parameters in model.named_parameters():\n",
    "    parm[name]=parameters\n",
    "    print(name)\n",
    "    # print(parm[name])"
   ]
  },
  {
   "cell_type": "code",
   "execution_count": 11,
   "metadata": {},
   "outputs": [],
   "source": [
    "# parm[\"fc.4.weight\"]"
   ]
  },
  {
   "cell_type": "code",
   "execution_count": 14,
   "metadata": {},
   "outputs": [],
   "source": [
    "# tensors = []\n",
    "\n",
    "# model.eval()\n",
    "# with torch.no_grad():\n",
    "\n",
    "#     t=10\n",
    "#     for i in range(0,t):\n",
    "#         r = random.randint(0, (batch_size) - 1)\n",
    "\n",
    "#         for X_test, Y_test in test_loader:\n",
    "#             X_test = X_test.to(device)\n",
    "#             Y_test = Y_test.to(device)\n",
    "        \n",
    "\n",
    "#         X_single_data = X_test[r]\n",
    "#         Y_single_data = Y_test[r]\n",
    "\n",
    "#         # print(X_single_data)\n",
    "        \n",
    "#         layerP = model.layer1(torch.unsqueeze(X_single_data,dim=0))\n",
    "#         # print(\"1\",layerP)\n",
    "#         layerP = model.layer2(layerP)\n",
    "#         # print(\"2\",layerP)\n",
    "#         layerP = model.layer3(layerP)\n",
    "#         # print(\"3\",layerP)\n",
    "#         layerP = model.layer4(layerP)\n",
    "#         layerP = layerP.detach().squeeze().reshape(-1,1250)\n",
    "\n",
    "#         tensor1 = torch.mm(layerP, parm['fc.0.weight'].data.permute(1,0)) + parm['fc.0.bias']\n",
    "#         tensor1 = torch.mm(tensor1, parm['fc.2.weight'].data.permute(1,0)) + parm['fc.2.bias']\n",
    "        \n",
    "#         tensors.append(tensor1.cpu().detach().numpy()[0])"
   ]
  },
  {
   "cell_type": "code",
   "execution_count": 13,
   "metadata": {},
   "outputs": [
    {
     "data": {
      "text/plain": [
       "torch.Size([10, 128])"
      ]
     },
     "execution_count": 13,
     "metadata": {},
     "output_type": "execute_result"
    }
   ],
   "source": [
    "parm['fc.4.weight'].shape"
   ]
  },
  {
   "cell_type": "code",
   "execution_count": 18,
   "metadata": {},
   "outputs": [],
   "source": [
    "dt = datetime.datetime.now()\n",
    "# np.savetxt(\"./misc/vr_metric\"+dt.strftime(\"%d--%H-%M-%S\")+\".dat\", vp+vp.T, fmt=\"%1.5f\")\n",
    "np.savetxt(\"./metric/param=\"+filename+dt.strftime(\"%m-%d--%H-%M-%S\")+\".dat\", parm['fc.4.weight'].detach().cpu(), fmt=\"%1.5f\")"
   ]
  },
  {
   "cell_type": "code",
   "execution_count": 14,
   "metadata": {},
   "outputs": [
    {
     "data": {
      "text/plain": [
       "(128, 128)"
      ]
     },
     "execution_count": 14,
     "metadata": {},
     "output_type": "execute_result"
    }
   ],
   "source": [
    "nb = np.linspace(0,0,128)\n",
    "for i in tensors:\n",
    "    nb += i\n",
    "nb /= t\n",
    "\n",
    "ns = np.linspace(0,0,128)\n",
    "vp = np.linspace(0,0,128*128).reshape(128,128)\n",
    "vp.shape"
   ]
  },
  {
   "cell_type": "code",
   "execution_count": 15,
   "metadata": {},
   "outputs": [],
   "source": [
    "for i in range(0,len(ns)):\n",
    "    for nps in tensors:\n",
    "        ns[i] += nps[i] ** 2\n",
    "    ns[i] = ns[i] ** 0.5"
   ]
  },
  {
   "cell_type": "code",
   "execution_count": 16,
   "metadata": {},
   "outputs": [
    {
     "name": "stdout",
     "output_type": "stream",
     "text": [
      "[[ 0.         -0.02144168  0.04302791 ... -0.03783377  0.03493989\n",
      "  -0.00821831]\n",
      " [-0.02144168  0.         -0.02036495 ...  0.01806049  0.00460479\n",
      "  -0.00194868]\n",
      " [ 0.04302791 -0.02036495  0.         ... -0.0364618   0.03285496\n",
      "  -0.02189673]\n",
      " ...\n",
      " [-0.03783377  0.01806049 -0.0364618  ...  0.         -0.03127106\n",
      "   0.01378983]\n",
      " [ 0.03493989  0.00460479  0.03285496 ... -0.03127106  0.\n",
      "  -0.00969969]\n",
      " [-0.00821831 -0.00194868 -0.02189673 ...  0.01378983 -0.00969969\n",
      "   0.        ]]\n"
     ]
    }
   ],
   "source": [
    "\n",
    "for i in range(0,len(ns)):\n",
    "    for j in range(i+1,len(ns)):\n",
    "        for nps in tensors:\n",
    "            vp[i,j] += (nps[i] - nb[i]) * (nps[j] - nb[j])\n",
    "        vp[i,j] /= (ns[i] * ns[j])\n",
    "\n",
    "print(vp + vp.T)\n",
    "    "
   ]
  },
  {
   "cell_type": "code",
   "execution_count": null,
   "metadata": {},
   "outputs": [],
   "source": [
    "# f = open(\"./misc/vr_metric\",'w')\n",
    "# f.write(str(vp+vp.T))\n",
    "# f.flush()\n",
    "# f.close()"
   ]
  },
  {
   "cell_type": "code",
   "execution_count": 16,
   "metadata": {},
   "outputs": [
    {
     "ename": "NameError",
     "evalue": "name 'filename' is not defined",
     "output_type": "error",
     "traceback": [
      "\u001b[1;31m---------------------------------------------------------------------------\u001b[0m",
      "\u001b[1;31mNameError\u001b[0m                                 Traceback (most recent call last)",
      "\u001b[1;32md:\\Code\\weightextract.ipynb Cell 19'\u001b[0m in \u001b[0;36m<cell line: 3>\u001b[1;34m()\u001b[0m\n\u001b[0;32m      <a href='vscode-notebook-cell:/d%3A/Code/weightextract.ipynb#ch0000018?line=0'>1</a>\u001b[0m dt \u001b[39m=\u001b[39m datetime\u001b[39m.\u001b[39mdatetime\u001b[39m.\u001b[39mnow()\n\u001b[0;32m      <a href='vscode-notebook-cell:/d%3A/Code/weightextract.ipynb#ch0000018?line=1'>2</a>\u001b[0m \u001b[39m# np.savetxt(\"./misc/vr_metric\"+dt.strftime(\"%d--%H-%M-%S\")+\".dat\", vp+vp.T, fmt=\"%1.5f\")\u001b[39;00m\n\u001b[1;32m----> <a href='vscode-notebook-cell:/d%3A/Code/weightextract.ipynb#ch0000018?line=2'>3</a>\u001b[0m np\u001b[39m.\u001b[39msavetxt(\u001b[39m\"\u001b[39m\u001b[39m./myfed_normal_save/vr_metric=\u001b[39m\u001b[39m\"\u001b[39m\u001b[39m+\u001b[39mfilename\u001b[39m+\u001b[39mdt\u001b[39m.\u001b[39mstrftime(\u001b[39m\"\u001b[39m\u001b[39m%\u001b[39m\u001b[39mm-\u001b[39m\u001b[39m%d\u001b[39;00m\u001b[39m--\u001b[39m\u001b[39m%\u001b[39m\u001b[39mH-\u001b[39m\u001b[39m%\u001b[39m\u001b[39mM-\u001b[39m\u001b[39m%\u001b[39m\u001b[39mS\u001b[39m\u001b[39m\"\u001b[39m)\u001b[39m+\u001b[39m\u001b[39m\"\u001b[39m\u001b[39m.dat\u001b[39m\u001b[39m\"\u001b[39m, vp\u001b[39m+\u001b[39mvp\u001b[39m.\u001b[39mT, fmt\u001b[39m=\u001b[39m\u001b[39m\"\u001b[39m\u001b[39m%1.5f\u001b[39;00m\u001b[39m\"\u001b[39m)\n",
      "\u001b[1;31mNameError\u001b[0m: name 'filename' is not defined"
     ]
    }
   ],
   "source": [
    "dt = datetime.datetime.now()\n",
    "# np.savetxt(\"./misc/vr_metric\"+dt.strftime(\"%d--%H-%M-%S\")+\".dat\", vp+vp.T, fmt=\"%1.5f\")\n",
    "np.savetxt(\"./myfed_normal_save/vr_metric=\"+filename+dt.strftime(\"%m-%d--%H-%M-%S\")+\".dat\", vp+vp.T, fmt=\"%1.5f\")"
   ]
  }
 ],
 "metadata": {
  "kernelspec": {
   "display_name": "Python 3 (ipykernel)",
   "language": "python",
   "name": "python3"
  },
  "language_info": {
   "codemirror_mode": {
    "name": "ipython",
    "version": 3
   },
   "file_extension": ".py",
   "mimetype": "text/x-python",
   "name": "python",
   "nbconvert_exporter": "python",
   "pygments_lexer": "ipython3",
   "version": "3.8.13"
  }
 },
 "nbformat": 4,
 "nbformat_minor": 1
}
